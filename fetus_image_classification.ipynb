{
  "cells": [
    {
      "cell_type": "markdown",
      "metadata": {
        "id": "view-in-github",
        "colab_type": "text"
      },
      "source": [
        "<a href=\"https://colab.research.google.com/github/VDliveson/USG-Fetal-classification/blob/main/fetus_image_classification.ipynb\" target=\"_parent\"><img src=\"https://colab.research.google.com/assets/colab-badge.svg\" alt=\"Open In Colab\"/></a>"
      ]
    },
    {
      "cell_type": "code",
      "execution_count": null,
      "metadata": {
        "id": "9XSAs0KNdD4g"
      },
      "outputs": [],
      "source": [
        "import tensorflow as tf\n",
        "from keras.models import load_model\n",
        "from keras.layers import Input, Lambda, Dense, Flatten\n",
        "from keras.models import Model\n",
        "from keras.applications.vgg16 import VGG16\n",
        "from keras.applications.vgg16 import preprocess_input\n",
        "from keras.preprocessing import image\n",
        "from keras.preprocessing.image import ImageDataGenerator\n",
        "from keras.applications.densenet import DenseNet169\n",
        "from keras.models import Sequential\n",
        "import pandas as pd\n",
        "import os\n",
        "import shutil\n",
        "import numpy as np\n",
        "from glob import glob\n",
        "import matplotlib.pyplot as plt"
      ]
    },
    {
      "cell_type": "code",
      "execution_count": null,
      "metadata": {
        "id": "aaDLmyd8dD4i"
      },
      "outputs": [],
      "source": [
        "from tensorflow.compat.v1 import ConfigProto\n",
        "from tensorflow.compat.v1 import InteractiveSession\n",
        "config = ConfigProto()\n",
        "config.gpu_options.allow_growth = True\n",
        "session = InteractiveSession(config=config)"
      ]
    },
    {
      "cell_type": "code",
      "execution_count": null,
      "metadata": {
        "colab": {
          "base_uri": "https://localhost:8080/"
        },
        "id": "oDK_Dw-AHRwe",
        "outputId": "e616791c-eed8-4360-e991-2316d7dd6a83"
      },
      "outputs": [
        {
          "output_type": "stream",
          "name": "stdout",
          "text": [
            "Mounted at /content/drive\n"
          ]
        }
      ],
      "source": [
        "from google.colab import drive\n",
        "drive.mount('/content/drive')"
      ]
    },
    {
      "cell_type": "markdown",
      "source": [
        "## Making file structure"
      ],
      "metadata": {
        "id": "CtvscZbQZQQc"
      }
    },
    {
      "cell_type": "code",
      "execution_count": null,
      "metadata": {
        "id": "RyOJOi5rhd8K"
      },
      "outputs": [],
      "source": [
        "# !curl https://zenodo.org/record/3904280/files/FETAL_PLANES_ZENODO.zip?download=1 -o fetus.zip"
      ]
    },
    {
      "cell_type": "code",
      "execution_count": null,
      "metadata": {
        "id": "GIiw2UwMipP8"
      },
      "outputs": [],
      "source": [
        "# importing the zipfile module\n",
        "from zipfile import ZipFile\n",
        "\n",
        "# loading the temp.zip and creating a zip object\n",
        "with ZipFile(\"/content/drive/MyDrive/fetus dataset/FETAL_PLANES_ZENODO.zip\", 'r') as zObject:\n",
        "\n",
        "\t# Extracting all the members of the zip\n",
        "\t# into a specific location.\n",
        "\tzObject.extractall(\n",
        "\t\tpath=\"/content/temp\")\n"
      ]
    },
    {
      "cell_type": "code",
      "source": [
        "# folder_path = r'/content/temp/Images'\n",
        "# img_list = os.listdir(folder_path)\n",
        "\n",
        "# if not os.path.exists('/content/temp1'):\n",
        "#     os.mkdir('/content/temp1')\n",
        "# out_folder = r'/content/temp1'\n",
        "\n",
        "# i=0\n",
        "# for img in img_list:\n",
        "#     print(i)\n",
        "#     img_path = os.path.join(folder_path,img)\n",
        "#     out_path = os.path.join(out_folder,img)\n",
        "#     img = cv2.imread(img_path,0)\n",
        "#     # nlmeans_denoised = cv2.fastNlMeansDenoising(image, None, 10, 7, 21)  # 10 is the filter strength, 7 is the h value, 21 is the window size, adjust as needed\n",
        "#     # gaussian_blur = cv2.GaussianBlur(image, (5, 5), 0)\n",
        "#     median_filtered = cv2.medianBlur(image, 5)\n",
        "#     cv2.imwrite(out_path,median_filtered)\n",
        "#     i=i+1\n"
      ],
      "metadata": {
        "id": "mPxsGOz8lDSb"
      },
      "execution_count": null,
      "outputs": []
    },
    {
      "cell_type": "code",
      "execution_count": null,
      "metadata": {
        "id": "NRT6CGDMiOcr"
      },
      "outputs": [],
      "source": [
        "df = pd.read_excel(r'/content/temp/FETAL_PLANES_DB_data.xlsx')\n",
        "df.head()\n",
        "\n",
        "\n",
        "def get_class_images(df,class_name,folder_path):\n",
        "    images_names = list(df[df['Plane']==class_name]['Image_name'])\n",
        "    names = []\n",
        "    for i in range(int(len(images_names))):\n",
        "        names.append(images_names[i]+'.png')\n",
        "    return names\n",
        "\n",
        "\n",
        "\n",
        "images_path = r'/content/temp/Images'\n",
        "\n",
        "class_names = list(df['Plane'].unique())\n",
        "class_folder_names = [i.lower().replace(' ', '_') for i in class_names]\n",
        "\n",
        "if not os.path.exists('/content/data'):\n",
        "    os.mkdir('/content/data')\n",
        "data_path = r'/content/data'\n",
        "\n",
        "for i in range(len(class_folder_names)):\n",
        "    folder_path = os.path.join(data_path,class_folder_names[i])\n",
        "    if not os.path.exists(folder_path):\n",
        "        os.mkdir(folder_path)\n",
        "    class_images = get_class_images(df,class_names[i],images_path)\n",
        "    for img in class_images:\n",
        "        img_path = os.path.join(images_path,img)\n",
        "        out_path = os.path.join(folder_path,img)\n",
        "        shutil.copy(img_path,out_path)"
      ]
    },
    {
      "cell_type": "code",
      "execution_count": null,
      "metadata": {
        "id": "rt3HAycho5qk"
      },
      "outputs": [],
      "source": [
        "if not os.path.exists(\"/content/models\"):\n",
        "    os.mkdir(\"/content/models\")"
      ]
    },
    {
      "cell_type": "code",
      "execution_count": null,
      "metadata": {
        "colab": {
          "base_uri": "https://localhost:8080/"
        },
        "id": "xDBe4FBJijL-",
        "outputId": "d5da0d70-8d71-4055-d896-fb7433184bfc"
      },
      "outputs": [
        {
          "output_type": "stream",
          "name": "stdout",
          "text": [
            "Collecting split-folders\n",
            "  Downloading split_folders-0.5.1-py3-none-any.whl (8.4 kB)\n",
            "Installing collected packages: split-folders\n",
            "Successfully installed split-folders-0.5.1\n"
          ]
        },
        {
          "output_type": "stream",
          "name": "stderr",
          "text": [
            "Copying files: 12400 files [00:07, 1725.54 files/s]\n"
          ]
        }
      ],
      "source": [
        "!pip install split-folders\n",
        "import splitfolders\n",
        "data_folder = r'/content/data'\n",
        "splitfolders.ratio(data_folder, output=\"output\",\n",
        "    seed=1337, ratio=(.8, .2), group_prefix=None, move=False)"
      ]
    },
    {
      "cell_type": "markdown",
      "source": [
        "## Data cleaning"
      ],
      "metadata": {
        "id": "1U7Sni6LoKJ0"
      }
    },
    {
      "cell_type": "code",
      "source": [
        "from scipy.ndimage.filters import uniform_filter\n",
        "from pylab import *\n",
        "import cv2\n",
        "\n",
        "\n",
        "from PIL import Image, ImageFilter\n",
        "\n",
        "\n",
        "def crimmins(data):\n",
        "    new_image = data.copy()\n",
        "    nrow = len(data)\n",
        "    ncol = len(data[0])\n",
        "\n",
        "    # Dark pixel adjustment\n",
        "\n",
        "    # First Step\n",
        "    # N-S\n",
        "    for i in range(1, nrow):\n",
        "        for j in range(ncol):\n",
        "            if data[i-1,j] >= (data[i,j] + 2):\n",
        "                new_image[i,j] += 1\n",
        "    data = new_image\n",
        "    # E-W\n",
        "    for i in range(nrow):\n",
        "        for j in range(ncol-1):\n",
        "            if data[i,j+1] >= (data[i,j] + 2):\n",
        "                new_image[i,j] += 1\n",
        "    data = new_image\n",
        "    # NW-SE\n",
        "    for i in range(1, nrow):\n",
        "        for j in range(1, ncol):\n",
        "            if data[i-1,j-1] >= (data[i,j] + 2):\n",
        "                new_image[i,j] += 1\n",
        "    data = new_image\n",
        "    #NE-SW\n",
        "    for i in range(1, nrow):\n",
        "        for j in range(ncol-1):\n",
        "            if data[i-1,j+1] >= (data[i,j] + 2):\n",
        "                new_image[i,j] += 1\n",
        "    data = new_image\n",
        "    # Second Step\n",
        "    # N-S\n",
        "    for i in range(1, nrow-1):\n",
        "        for j in range(ncol):\n",
        "            if (data[i-1,j] > data[i,j]) and (data[i,j] <= data[i+1,j]):\n",
        "                new_image[i,j] += 1\n",
        "    data = new_image\n",
        "    # E-W\n",
        "    for i in range(nrow):\n",
        "        for j in range(1, ncol-1):\n",
        "            if (data[i,j+1] > data[i,j]) and (data[i,j] <= data[i,j-1]):\n",
        "                new_image[i,j] += 1\n",
        "    data = new_image\n",
        "    # NW-SE\n",
        "    for i in range(1, nrow-1):\n",
        "        for j in range(1, ncol-1):\n",
        "            if (data[i-1,j-1] > data[i,j]) and (data[i,j] <= data[i+1,j+1]):\n",
        "                new_image[i,j] += 1\n",
        "    data = new_image\n",
        "    # NE-SW\n",
        "    for i in range(1, nrow-1):\n",
        "        for j in range(1, ncol-1):\n",
        "            if (data[i-1,j+1] > data[i,j]) and (data[i,j] <= data[i+1,j-1]):\n",
        "                new_image[i,j] += 1\n",
        "    data = new_image\n",
        "    #Third Step\n",
        "    # N-S\n",
        "    for i in range(1, nrow-1):\n",
        "        for j in range(ncol):\n",
        "            if (data[i+1,j] > data[i,j]) and (data[i,j] <= data[i-1,j]):\n",
        "                new_image[i,j] += 1\n",
        "    data = new_image\n",
        "    # E-W\n",
        "    for i in range(nrow):\n",
        "        for j in range(1, ncol-1):\n",
        "            if (data[i,j-1] > data[i,j]) and (data[i,j] <= data[i,j+1]):\n",
        "                new_image[i,j] += 1\n",
        "    data = new_image\n",
        "    # NW-SE\n",
        "    for i in range(1, nrow-1):\n",
        "        for j in range(1, ncol-1):\n",
        "            if (data[i+1,j+1] > data[i,j]) and (data[i,j] <= data[i-1,j-1]):\n",
        "                new_image[i,j] += 1\n",
        "    data = new_image\n",
        "    # NE-SW\n",
        "    for i in range(1, nrow-1):\n",
        "        for j in range(1, ncol-1):\n",
        "            if (data[i+1,j-1] > data[i,j]) and (data[i,j] <= data[i-1,j+1]):\n",
        "                new_image[i,j] += 1\n",
        "    data = new_image\n",
        "    # Fourth Step\n",
        "    # N-S\n",
        "    for i in range(nrow-1):\n",
        "        for j in range(ncol):\n",
        "            if (data[i+1,j] >= (data[i,j]+2)):\n",
        "                new_image[i,j] += 1\n",
        "    data = new_image\n",
        "    # E-W\n",
        "    for i in range(nrow):\n",
        "        for j in range(1,ncol):\n",
        "            if (data[i,j-1] >= (data[i,j]+2)):\n",
        "                new_image[i,j] += 1\n",
        "    data = new_image\n",
        "    # NW-SE\n",
        "    for i in range(nrow-1):\n",
        "        for j in range(ncol-1):\n",
        "            if (data[i+1,j+1] >= (data[i,j]+2)):\n",
        "                new_image[i,j] += 1\n",
        "    data = new_image\n",
        "    # NE-SW\n",
        "    for i in range(nrow-1):\n",
        "        for j in range(1,ncol):\n",
        "            if (data[i+1,j-1] >= (data[i,j]+2)):\n",
        "                new_image[i,j] += 1\n",
        "    data = new_image\n",
        "\n",
        "    # Light pixel adjustment\n",
        "\n",
        "    # First Step\n",
        "    # N-S\n",
        "    for i in range(1,nrow):\n",
        "        for j in range(ncol):\n",
        "            if (data[i-1,j] <= (data[i,j]-2)):\n",
        "                new_image[i,j] -= 1\n",
        "    data = new_image\n",
        "    # E-W\n",
        "    for i in range(nrow):\n",
        "        for j in range(ncol-1):\n",
        "            if (data[i,j+1] <= (data[i,j]-2)):\n",
        "                new_image[i,j] -= 1\n",
        "    data = new_image\n",
        "    # NW-SE\n",
        "    for i in range(1,nrow):\n",
        "        for j in range(1,ncol):\n",
        "            if (data[i-1,j-1] <= (data[i,j]-2)):\n",
        "                new_image[i,j] -= 1\n",
        "    data = new_image\n",
        "    # NE-SW\n",
        "    for i in range(1,nrow):\n",
        "        for j in range(ncol-1):\n",
        "            if (data[i-1,j+1] <= (data[i,j]-2)):\n",
        "                new_image[i,j] -= 1\n",
        "    data = new_image\n",
        "    # Second Step\n",
        "    # N-S\n",
        "    for i in range(1,nrow-1):\n",
        "        for j in range(ncol):\n",
        "            if (data[i-1,j] < data[i,j]) and (data[i,j] >= data[i+1,j]):\n",
        "                new_image[i,j] -= 1\n",
        "    data = new_image\n",
        "    # E-W\n",
        "    for i in range(nrow):\n",
        "        for j in range(1, ncol-1):\n",
        "            if (data[i,j+1] < data[i,j]) and (data[i,j] >= data[i,j-1]):\n",
        "                new_image[i,j] -= 1\n",
        "    data = new_image\n",
        "    # NW-SE\n",
        "    for i in range(1,nrow-1):\n",
        "        for j in range(1,ncol-1):\n",
        "            if (data[i-1,j-1] < data[i,j]) and (data[i,j] >= data[i+1,j+1]):\n",
        "                new_image[i,j] -= 1\n",
        "    data = new_image\n",
        "    # NE-SW\n",
        "    for i in range(1,nrow-1):\n",
        "        for j in range(1,ncol-1):\n",
        "            if (data[i-1,j+1] < data[i,j]) and (data[i,j] >= data[i+1,j-1]):\n",
        "                new_image[i,j] -= 1\n",
        "    data = new_image\n",
        "    # Third Step\n",
        "    # N-S\n",
        "    for i in range(1,nrow-1):\n",
        "        for j in range(ncol):\n",
        "            if (data[i+1,j] < data[i,j]) and (data[i,j] >= data[i-1,j]):\n",
        "                new_image[i,j] -= 1\n",
        "    data = new_image\n",
        "    # E-W\n",
        "    for i in range(nrow):\n",
        "        for j in range(1,ncol-1):\n",
        "            if (data[i,j-1] < data[i,j]) and (data[i,j] >= data[i,j+1]):\n",
        "                new_image[i,j] -= 1\n",
        "    data = new_image\n",
        "    # NW-SE\n",
        "    for i in range(1,nrow-1):\n",
        "        for j in range(1,ncol-1):\n",
        "            if (data[i+1,j+1] < data[i,j]) and (data[i,j] >= data[i-1,j-1]):\n",
        "                new_image[i,j] -= 1\n",
        "    data = new_image\n",
        "    # NE-SW\n",
        "    for i in range(1,nrow-1):\n",
        "        for j in range(1,ncol-1):\n",
        "            if (data[i+1,j-1] < data[i,j]) and (data[i,j] >= data[i-1,j+1]):\n",
        "                new_image[i,j] -= 1\n",
        "    data = new_image\n",
        "    # Fourth Step\n",
        "    # N-S\n",
        "    for i in range(nrow-1):\n",
        "        for j in range(ncol):\n",
        "            if (data[i+1,j] <= (data[i,j]-2)):\n",
        "                new_image[i,j] -= 1\n",
        "    data = new_image\n",
        "    # E-W\n",
        "    for i in range(nrow):\n",
        "        for j in range(1,ncol):\n",
        "            if (data[i,j-1] <= (data[i,j]-2)):\n",
        "                new_image[i,j] -= 1\n",
        "    data = new_image\n",
        "    # NW-SE\n",
        "    for i in range(nrow-1):\n",
        "        for j in range(ncol-1):\n",
        "            if (data[i+1,j+1] <= (data[i,j]-2)):\n",
        "                new_image[i,j] -= 1\n",
        "    data = new_image\n",
        "    # NE-SW\n",
        "    for i in range(nrow-1):\n",
        "        for j in range(1,ncol):\n",
        "            if (data[i+1,j-1] <= (data[i,j]-2)):\n",
        "                new_image[i,j] -= 1\n",
        "    data = new_image\n",
        "    return new_image.copy()\n",
        "\n",
        "\n",
        "\n",
        "img = cv2.imread('/content/output/train/fetal_abdomen/Patient00168_Plane2_1_of_2.png')\n",
        "img = cv2.cvtColor(img, cv2.COLOR_BGR2RGB)\n",
        "\n",
        "\n",
        "image2 = cv2.cvtColor(img, cv2.COLOR_HSV2BGR)\n",
        "image2 = cv2.cvtColor(img, cv2.COLOR_BGR2GRAY)\n",
        "\n",
        "# imshow(img, vmin=0, vmax=1, cmap='gray')\n",
        "# imshow(lee_filter(img, 20), vmin=0, vmax=1, cmap='gray')\n",
        "\n",
        "\n",
        "# image2 = Image.fromarray(image2.astype('uint8'))\n",
        "# image2 = cv2.cvtColor(image2, cv2.COLOR_BGR2RGB)\n",
        "new_image = crimmins(image2)\n",
        "\n",
        "plt.figure(figsize=(11,6))\n",
        "plt.subplot(121), plt.imshow(image2, cmap='gray'),plt.title('Original')\n",
        "plt.xticks([]), plt.yticks([])\n",
        "plt.subplot(122), plt.imshow(new_image, cmap='gray'),plt.title('Crimmins Smoothing')\n",
        "plt.xticks([]), plt.yticks([])\n",
        "plt.show()"
      ],
      "metadata": {
        "id": "da997AyNPLE2",
        "colab": {
          "base_uri": "https://localhost:8080/",
          "height": 290
        },
        "outputId": "257d60b7-6ec0-4dd1-fefa-ef2076f5a43b"
      },
      "execution_count": null,
      "outputs": [
        {
          "output_type": "stream",
          "name": "stderr",
          "text": [
            "<ipython-input-43-53b34f943f0a>:1: DeprecationWarning: Please use `uniform_filter` from the `scipy.ndimage` namespace, the `scipy.ndimage.filters` namespace is deprecated.\n",
            "  from scipy.ndimage.filters import uniform_filter\n"
          ]
        },
        {
          "output_type": "error",
          "ename": "error",
          "evalue": "ignored",
          "traceback": [
            "\u001b[0;31m---------------------------------------------------------------------------\u001b[0m",
            "\u001b[0;31merror\u001b[0m                                     Traceback (most recent call last)",
            "\u001b[0;32m<ipython-input-43-53b34f943f0a>\u001b[0m in \u001b[0;36m<cell line: 224>\u001b[0;34m()\u001b[0m\n\u001b[1;32m    222\u001b[0m \u001b[0;34m\u001b[0m\u001b[0m\n\u001b[1;32m    223\u001b[0m \u001b[0mimg\u001b[0m \u001b[0;34m=\u001b[0m \u001b[0mcv2\u001b[0m\u001b[0;34m.\u001b[0m\u001b[0mimread\u001b[0m\u001b[0;34m(\u001b[0m\u001b[0;34m'/content/output/train/fetal_abdomen/Patient00168_Plane2_1_of_2.png'\u001b[0m\u001b[0;34m)\u001b[0m\u001b[0;34m\u001b[0m\u001b[0;34m\u001b[0m\u001b[0m\n\u001b[0;32m--> 224\u001b[0;31m \u001b[0mimg\u001b[0m \u001b[0;34m=\u001b[0m \u001b[0mcv2\u001b[0m\u001b[0;34m.\u001b[0m\u001b[0mcvtColor\u001b[0m\u001b[0;34m(\u001b[0m\u001b[0mimg\u001b[0m\u001b[0;34m,\u001b[0m \u001b[0mcv2\u001b[0m\u001b[0;34m.\u001b[0m\u001b[0mCOLOR_BGR2RGB\u001b[0m\u001b[0;34m)\u001b[0m\u001b[0;34m\u001b[0m\u001b[0;34m\u001b[0m\u001b[0m\n\u001b[0m\u001b[1;32m    225\u001b[0m \u001b[0;34m\u001b[0m\u001b[0m\n\u001b[1;32m    226\u001b[0m \u001b[0;34m\u001b[0m\u001b[0m\n",
            "\u001b[0;31merror\u001b[0m: OpenCV(4.7.0) /io/opencv/modules/imgproc/src/color.cpp:182: error: (-215:Assertion failed) !_src.empty() in function 'cvtColor'\n"
          ]
        }
      ]
    },
    {
      "cell_type": "markdown",
      "source": [
        "## Test and train dataset generator"
      ],
      "metadata": {
        "id": "3fGlgEClbyHn"
      }
    },
    {
      "cell_type": "code",
      "execution_count": null,
      "metadata": {
        "colab": {
          "base_uri": "https://localhost:8080/"
        },
        "id": "jCTRntBrdD4j",
        "outputId": "897f56dc-af05-433c-a093-3f5464542b14"
      },
      "outputs": [
        {
          "output_type": "stream",
          "name": "stdout",
          "text": [
            "Fri Jun 30 08:35:39 2023       \n",
            "+-----------------------------------------------------------------------------+\n",
            "| NVIDIA-SMI 525.85.12    Driver Version: 525.85.12    CUDA Version: 12.0     |\n",
            "|-------------------------------+----------------------+----------------------+\n",
            "| GPU  Name        Persistence-M| Bus-Id        Disp.A | Volatile Uncorr. ECC |\n",
            "| Fan  Temp  Perf  Pwr:Usage/Cap|         Memory-Usage | GPU-Util  Compute M. |\n",
            "|                               |                      |               MIG M. |\n",
            "|===============================+======================+======================|\n",
            "|   0  Tesla T4            Off  | 00000000:00:04.0 Off |                    0 |\n",
            "| N/A   56C    P0    28W /  70W |    387MiB / 15360MiB |      0%      Default |\n",
            "|                               |                      |                  N/A |\n",
            "+-------------------------------+----------------------+----------------------+\n",
            "                                                                               \n",
            "+-----------------------------------------------------------------------------+\n",
            "| Processes:                                                                  |\n",
            "|  GPU   GI   CI        PID   Type   Process name                  GPU Memory |\n",
            "|        ID   ID                                                   Usage      |\n",
            "|=============================================================================|\n",
            "+-----------------------------------------------------------------------------+\n"
          ]
        }
      ],
      "source": [
        "!nvidia-smi"
      ]
    },
    {
      "cell_type": "code",
      "execution_count": null,
      "metadata": {
        "colab": {
          "base_uri": "https://localhost:8080/"
        },
        "id": "cHOfe00CdD4l",
        "outputId": "019919ab-eecb-4ddb-a346-4c41b757c9d1"
      },
      "outputs": [
        {
          "output_type": "stream",
          "name": "stdout",
          "text": [
            "Found 9917 files belonging to 6 classes.\n",
            "Found 2483 files belonging to 6 classes.\n"
          ]
        }
      ],
      "source": [
        "from keras.preprocessing.image import ImageDataGenerator\n",
        "from keras.utils import image_dataset_from_directory\n",
        "\n",
        "TARGET_SHAPE = (224,224)\n",
        "BATCH_SIZE = 32\n",
        "train_dir = \"output/train\" #ex: images/train/\n",
        "test_dir = \"output/val\" #ex: images/test/\n",
        "\n",
        "classes = os.listdir(train_dir)\n",
        "\n",
        "\n",
        "train_data_gen = image_dataset_from_directory(batch_size=BATCH_SIZE,\n",
        "                                              class_names = classes,\n",
        "                                              directory=train_dir,\n",
        "                                              image_size=TARGET_SHAPE,\n",
        "                                              shuffle=True,\n",
        "                                              )\n",
        "\n",
        "test_data_gen = image_dataset_from_directory(batch_size=BATCH_SIZE,\n",
        "                                              class_names = classes,\n",
        "                                              directory=test_dir,\n",
        "                                              image_size=TARGET_SHAPE,\n",
        "                                              shuffle=True,\n",
        "                                              )\n",
        "\n",
        "\n",
        "data_augmentation = tf.keras.Sequential([\n",
        "    tf.keras.layers.experimental.preprocessing.RandomFlip('horizontal'),\n",
        "    tf.keras.layers.experimental.preprocessing.RandomRotation(factor=0.1, fill_mode='reflect',\n",
        "                                                            interpolation='bilinear'),\n",
        "    tf.keras.layers.experimental.preprocessing.RandomZoom(height_factor=(-0.2, 0.2), width_factor=(-0.2, 0.2),\n",
        "                                                         fill_mode='reflect', interpolation='bilinear'),\n",
        "    tf.keras.layers.experimental.preprocessing.RandomTranslation(height_factor=(-0.1, 0.1), width_factor=(-0.1, 0.1),\n",
        "                                                                fill_mode='reflect', interpolation='bilinear'),\n",
        "])\n",
        "\n",
        "\n",
        "\n",
        "def normalize_images(images, labels):\n",
        "    # Convert pixel values to float32\n",
        "    images = tf.cast(images, tf.float32)\n",
        "    # Normalize pixel values from [0, 255] to [-1, 1] range\n",
        "    images = (images / 127.5) - 1.0\n",
        "    return images, labels\n",
        "\n",
        "# Apply normalization to the loaded dataset\n",
        "# train_data_gen = train_data_gen.map(normalize_images)\n",
        "# # train_data_gen = train_data_gen.map(lambda x, y: (data_augmentation(x, training=True), y))\n",
        "# test_data_gen = test_data_gen.map(normalize_images)\n",
        "\n",
        "\n",
        "train_data_gen = train_data_gen.cache().prefetch(buffer_size=tf.data.AUTOTUNE)\n",
        "test_data_gen = test_data_gen.cache().prefetch(buffer_size=tf.data.AUTOTUNE)"
      ]
    },
    {
      "cell_type": "markdown",
      "metadata": {
        "id": "1ZoFmsIuzEeO"
      },
      "source": [
        "## Load model definition"
      ]
    },
    {
      "cell_type": "code",
      "execution_count": null,
      "metadata": {
        "colab": {
          "base_uri": "https://localhost:8080/"
        },
        "id": "rFYECy8kzHab",
        "outputId": "0a9edd0e-4724-4377-f184-df556fa84f2f"
      },
      "outputs": [
        {
          "output_type": "stream",
          "name": "stdout",
          "text": [
            "Collecting git+https://github.com/qubvel/classification_models.git\n",
            "  Cloning https://github.com/qubvel/classification_models.git to /tmp/pip-req-build-34pjei0p\n",
            "  Running command git clone --filter=blob:none --quiet https://github.com/qubvel/classification_models.git /tmp/pip-req-build-34pjei0p\n",
            "  Resolved https://github.com/qubvel/classification_models.git to commit a0f006e05485a34ccf871c421279864b0ccd220b\n",
            "  Running command git submodule update --init --recursive -q\n",
            "  Preparing metadata (setup.py) ... \u001b[?25l\u001b[?25hdone\n",
            "Collecting keras_applications<=1.0.8,>=1.0.7 (from image-classifiers==1.0.0)\n",
            "  Downloading Keras_Applications-1.0.8-py3-none-any.whl (50 kB)\n",
            "\u001b[2K     \u001b[90m━━━━━━━━━━━━━━━━━━━━━━━━━━━━━━━━━━━━━━━━\u001b[0m \u001b[32m50.7/50.7 kB\u001b[0m \u001b[31m2.2 MB/s\u001b[0m eta \u001b[36m0:00:00\u001b[0m\n",
            "\u001b[?25hRequirement already satisfied: numpy>=1.9.1 in /usr/local/lib/python3.10/dist-packages (from keras_applications<=1.0.8,>=1.0.7->image-classifiers==1.0.0) (1.22.4)\n",
            "Requirement already satisfied: h5py in /usr/local/lib/python3.10/dist-packages (from keras_applications<=1.0.8,>=1.0.7->image-classifiers==1.0.0) (3.8.0)\n",
            "Building wheels for collected packages: image-classifiers\n",
            "  Building wheel for image-classifiers (setup.py) ... \u001b[?25l\u001b[?25hdone\n",
            "  Created wheel for image-classifiers: filename=image_classifiers-1.0.0-py3-none-any.whl size=20031 sha256=2a6a2909abdc9c88f4244e3e76a79a741d7fcd6fa55fb6e3d42856bb74766473\n",
            "  Stored in directory: /tmp/pip-ephem-wheel-cache-2sugiall/wheels/f5/13/cb/b1dbd79043c5a389742e422859b0b663adcd7b5c220928c339\n",
            "Successfully built image-classifiers\n",
            "Installing collected packages: keras_applications, image-classifiers\n",
            "Successfully installed image-classifiers-1.0.0 keras_applications-1.0.8\n"
          ]
        }
      ],
      "source": [
        "!pip install git+https://github.com/qubvel/classification_models.git\n",
        "\n",
        "import tensorflow as tf\n",
        "\n",
        "from classification_models.tfkeras import Classifiers\n",
        "from keras.applications.vgg16 import VGG16\n",
        "from keras.applications.vgg19 import VGG19\n",
        "from keras.applications.mobilenet import MobileNet\n",
        "from keras.applications.inception_v3 import InceptionV3\n",
        "from keras.applications.resnet import ResNet50, ResNet101, ResNet152\n",
        "# from keras.applications.resnet import ResNet18, ResNet34, ResNet50, ResNet101, ResNet152\n",
        "\n",
        "# from keras.applications.resnext import ResNeXt50, ResNeXt101\n",
        "# from keras.applications.senet import SENet, SEResNet50, SEResNet101, SEResNet152, SEResNeXt50, SEResNeXt101\n",
        "ResNet18,preprocess_input = Classifiers.get('resnet18')\n",
        "ResNet34,preprocess_input = Classifiers.get('resnet34')\n",
        "\n",
        "ResNeXt50,preprocess_input = Classifiers.get('resnext50')\n",
        "ResNeXt101,preprocess_input = Classifiers.get('resnext101')\n",
        "\n",
        "\n",
        "SENet,preprocess_input = Classifiers.get('senet154')\n",
        "SEResNet50,preprocess_input = Classifiers.get('seresnet50')\n",
        "SEResNet101,preprocess_input = Classifiers.get('seresnet101')\n",
        "SEResNet152,preprocess_input = Classifiers.get('seresnet152')\n",
        "SEResNeXt50,preprocess_input = Classifiers.get('seresnext50')\n",
        "SEResNeXt101,preprocess_input = Classifiers.get('seresnext101')\n",
        "\n",
        "from keras.applications.densenet import DenseNet121, DenseNet169\n"
      ]
    },
    {
      "cell_type": "code",
      "execution_count": null,
      "metadata": {
        "id": "kmOpYn7lLo6O"
      },
      "outputs": [],
      "source": [
        "# InceptionV3,\n",
        "\n",
        "\n",
        "model_variables = [\n",
        "    VGG16,\n",
        "    VGG19,\n",
        "    MobileNet,\n",
        "    ResNet18,\n",
        "    ResNet34,\n",
        "    ResNet50,\n",
        "    ResNet101,\n",
        "    ResNet152,\n",
        "    ResNeXt50,\n",
        "    ResNeXt101,\n",
        "    SENet,\n",
        "    SEResNet50,\n",
        "    SEResNet101,\n",
        "    SEResNet152,\n",
        "    SEResNeXt50,\n",
        "    SEResNeXt101,\n",
        "    DenseNet121,\n",
        "    DenseNet169\n",
        "]\n",
        "\n",
        "model_names = [\n",
        "    'VGG16',\n",
        "    'VGG19',\n",
        "    'MobileNet',\n",
        "    'ResNet18',\n",
        "    'ResNet34',\n",
        "    'ResNet50',\n",
        "    'ResNet101',\n",
        "    'ResNet152',\n",
        "    'ResNeXt50',\n",
        "    'ResNeXt101',\n",
        "    'SENet',\n",
        "    'SEResNet50',\n",
        "    'SEResNet101',\n",
        "    'SEResNet152',\n",
        "    'SEResNeXt50',\n",
        "    'SEResNeXt101',\n",
        "    'DenseNet121',\n",
        "    'DenseNet169'\n",
        "]"
      ]
    },
    {
      "cell_type": "markdown",
      "source": [
        "## Other users"
      ],
      "metadata": {
        "id": "J5VBoOwQsFUw"
      }
    },
    {
      "cell_type": "code",
      "source": [
        "from IPython.display import clear_output\n",
        "\n",
        "IMAGE_SIZE  = [224,224]\n",
        "\n",
        "accuracy_dict = {}\n",
        "\n",
        "for it in range(17,18):\n",
        "    clear_output(wait=True)\n",
        "    print(model_names[it],' is being Trained\\n\\n')\n",
        "\n",
        "\n",
        "    if it == 17 or it == 16:\n",
        "        model_init = model_variables[it](input_shape=IMAGE_SIZE  + [3], weights ='imagenet', include_top=False)\n",
        "    else:\n",
        "        model_init = model_variables[it](input_shape=IMAGE_SIZE  + [3], weights = 'imagenet', include_top=False)\n",
        "    # print(model_init.summary())\n",
        "\n",
        "\n",
        "    model_init.trainable=False\n",
        "    batch_norm = tf.keras.layers.BatchNormalization()\n",
        "    rescaling_layer = tf.keras.layers.Rescaling(1./255,input_shape=IMAGE_SIZE  + [3])\n",
        "    global_average_layer = tf.keras.layers.GlobalAveragePooling2D()\n",
        "\n",
        "    # mirroring and shifting layers\n",
        "    data_augmentation = tf.keras.Sequential([\n",
        "        tf.keras.layers.RandomFlip(\"horizontal\", seed = 42),\n",
        "        #tf.keras.layers.RandomTranslation(height_factor = (-0.15, 0.15), width_factor = (-0.15, 0.15), fill_mode = \"nearest\", seed = 42),\n",
        "    ])\n",
        "\n",
        "    # normalization layer\n",
        "    normalize = tf.keras.layers.Normalization()\n",
        "\n",
        "    prediction_layer = tf.keras.layers.Dense(len(classes),activation='softmax')\n",
        "    model = tf.keras.Sequential([\n",
        "        rescaling_layer,\n",
        "        data_augmentation,\n",
        "        model_init,\n",
        "        batch_norm,\n",
        "        global_average_layer,\n",
        "        prediction_layer\n",
        "    ])\n",
        "\n",
        "    print(model.summary())\n",
        "    print(\"Training : \")\n",
        "\n",
        "    model.compile(optimizer=tf.optimizers.Adam(),\n",
        "                loss=tf.keras.losses.sparse_categorical_crossentropy,\n",
        "                metrics=[\"accuracy\"])\n",
        "\n",
        "    history = model.fit(train_data_gen,\n",
        "                    epochs=10,\n",
        "                    steps_per_epoch=2,\n",
        "                    validation_steps=2,\n",
        "                    validation_data=test_data_gen)\n",
        "\n",
        "\n",
        "    validation_steps = 20\n",
        "\n",
        "    loss0,accuracy0 = model.evaluate(test_data_gen, steps = validation_steps)\n",
        "\n",
        "    print(model_names[it], 'gives us :')\n",
        "    print(\"loss: {:.2f}\".format(loss0))\n",
        "    print(\"accuracy: {:.2f}\".format(accuracy0))\n",
        "\n",
        "    accuracy_dict.update({model_names[it]:[loss0,accuracy0]})\n",
        "\n",
        "    model.save(\"models/\"+str(model_names[it])+\".h5\")\n"
      ],
      "metadata": {
        "colab": {
          "base_uri": "https://localhost:8080/",
          "height": 1000
        },
        "id": "klsjaMEzsHsf",
        "outputId": "f89caffd-3197-479a-d32e-d41bd052cf58"
      },
      "execution_count": null,
      "outputs": [
        {
          "output_type": "stream",
          "name": "stdout",
          "text": [
            "DenseNet169  is being Trained\n",
            "\n",
            "\n",
            "Model: \"sequential_8\"\n",
            "_________________________________________________________________\n",
            " Layer (type)                Output Shape              Param #   \n",
            "=================================================================\n",
            " rescaling_6 (Rescaling)     (None, 224, 224, 3)       0         \n",
            "                                                                 \n",
            " sequential_7 (Sequential)   (None, 224, 224, 3)       0         \n",
            "                                                                 \n",
            " densenet169 (Functional)    (None, 7, 7, 1664)        12642880  \n",
            "                                                                 \n",
            " batch_normalization_6 (Batc  (None, 7, 7, 1664)       6656      \n",
            " hNormalization)                                                 \n",
            "                                                                 \n",
            " global_average_pooling2d_6   (None, 1664)             0         \n",
            " (GlobalAveragePooling2D)                                        \n",
            "                                                                 \n",
            " dense_6 (Dense)             (None, 6)                 9990      \n",
            "                                                                 \n",
            "=================================================================\n",
            "Total params: 12,659,526\n",
            "Trainable params: 13,318\n",
            "Non-trainable params: 12,646,208\n",
            "_________________________________________________________________\n",
            "None\n",
            "Training : \n",
            "Epoch 1/10\n",
            "2/2 [==============================] - 17s 5s/step - loss: 1.8616 - accuracy: 0.2031 - val_loss: 1.9635 - val_accuracy: 0.1406\n",
            "Epoch 2/10\n",
            "2/2 [==============================] - 2s 1s/step - loss: 1.6992 - accuracy: 0.2969 - val_loss: 1.8240 - val_accuracy: 0.2656\n",
            "Epoch 3/10\n",
            "2/2 [==============================] - 2s 1s/step - loss: 1.5035 - accuracy: 0.5156 - val_loss: 1.5508 - val_accuracy: 0.3438\n",
            "Epoch 4/10\n",
            "2/2 [==============================] - 1s 1s/step - loss: 1.4061 - accuracy: 0.5156 - val_loss: 1.3279 - val_accuracy: 0.4844\n",
            "Epoch 5/10\n",
            "2/2 [==============================] - 1s 1s/step - loss: 1.3482 - accuracy: 0.5469 - val_loss: 1.6094 - val_accuracy: 0.4219\n",
            "Epoch 6/10\n",
            "2/2 [==============================] - 1s 1s/step - loss: 1.2127 - accuracy: 0.6562 - val_loss: 1.3653 - val_accuracy: 0.5312\n",
            "Epoch 7/10\n",
            "2/2 [==============================] - 1s 1s/step - loss: 1.0509 - accuracy: 0.7188 - val_loss: 1.3771 - val_accuracy: 0.4688\n",
            "Epoch 8/10\n",
            "2/2 [==============================] - 3s 3s/step - loss: 1.1892 - accuracy: 0.5156 - val_loss: 1.5275 - val_accuracy: 0.4844\n",
            "Epoch 9/10\n",
            "2/2 [==============================] - ETA: 0s - loss: 0.8859 - accuracy: 0.8281"
          ]
        },
        {
          "output_type": "error",
          "ename": "KeyboardInterrupt",
          "evalue": "ignored",
          "traceback": [
            "\u001b[0;31m---------------------------------------------------------------------------\u001b[0m",
            "\u001b[0;31mKeyboardInterrupt\u001b[0m                         Traceback (most recent call last)",
            "\u001b[0;32m<ipython-input-24-0352987e8d80>\u001b[0m in \u001b[0;36m<cell line: 7>\u001b[0;34m()\u001b[0m\n\u001b[1;32m     48\u001b[0m                 metrics=[\"accuracy\"])\n\u001b[1;32m     49\u001b[0m \u001b[0;34m\u001b[0m\u001b[0m\n\u001b[0;32m---> 50\u001b[0;31m     history = model.fit(train_data_gen,\n\u001b[0m\u001b[1;32m     51\u001b[0m                     \u001b[0mepochs\u001b[0m\u001b[0;34m=\u001b[0m\u001b[0;36m10\u001b[0m\u001b[0;34m,\u001b[0m\u001b[0;34m\u001b[0m\u001b[0;34m\u001b[0m\u001b[0m\n\u001b[1;32m     52\u001b[0m                     \u001b[0msteps_per_epoch\u001b[0m\u001b[0;34m=\u001b[0m\u001b[0;36m2\u001b[0m\u001b[0;34m,\u001b[0m\u001b[0;34m\u001b[0m\u001b[0;34m\u001b[0m\u001b[0m\n",
            "\u001b[0;32m/usr/local/lib/python3.9/dist-packages/keras/utils/traceback_utils.py\u001b[0m in \u001b[0;36merror_handler\u001b[0;34m(*args, **kwargs)\u001b[0m\n\u001b[1;32m     63\u001b[0m         \u001b[0mfiltered_tb\u001b[0m \u001b[0;34m=\u001b[0m \u001b[0;32mNone\u001b[0m\u001b[0;34m\u001b[0m\u001b[0;34m\u001b[0m\u001b[0m\n\u001b[1;32m     64\u001b[0m         \u001b[0;32mtry\u001b[0m\u001b[0;34m:\u001b[0m\u001b[0;34m\u001b[0m\u001b[0;34m\u001b[0m\u001b[0m\n\u001b[0;32m---> 65\u001b[0;31m             \u001b[0;32mreturn\u001b[0m \u001b[0mfn\u001b[0m\u001b[0;34m(\u001b[0m\u001b[0;34m*\u001b[0m\u001b[0margs\u001b[0m\u001b[0;34m,\u001b[0m \u001b[0;34m**\u001b[0m\u001b[0mkwargs\u001b[0m\u001b[0;34m)\u001b[0m\u001b[0;34m\u001b[0m\u001b[0;34m\u001b[0m\u001b[0m\n\u001b[0m\u001b[1;32m     66\u001b[0m         \u001b[0;32mexcept\u001b[0m \u001b[0mException\u001b[0m \u001b[0;32mas\u001b[0m \u001b[0me\u001b[0m\u001b[0;34m:\u001b[0m\u001b[0;34m\u001b[0m\u001b[0;34m\u001b[0m\u001b[0m\n\u001b[1;32m     67\u001b[0m             \u001b[0mfiltered_tb\u001b[0m \u001b[0;34m=\u001b[0m \u001b[0m_process_traceback_frames\u001b[0m\u001b[0;34m(\u001b[0m\u001b[0me\u001b[0m\u001b[0;34m.\u001b[0m\u001b[0m__traceback__\u001b[0m\u001b[0;34m)\u001b[0m\u001b[0;34m\u001b[0m\u001b[0;34m\u001b[0m\u001b[0m\n",
            "\u001b[0;32m/usr/local/lib/python3.9/dist-packages/keras/engine/training.py\u001b[0m in \u001b[0;36mfit\u001b[0;34m(self, x, y, batch_size, epochs, verbose, callbacks, validation_split, validation_data, shuffle, class_weight, sample_weight, initial_epoch, steps_per_epoch, validation_steps, validation_batch_size, validation_freq, max_queue_size, workers, use_multiprocessing)\u001b[0m\n\u001b[1;32m   1727\u001b[0m                             \u001b[0msteps_per_execution\u001b[0m\u001b[0;34m=\u001b[0m\u001b[0mself\u001b[0m\u001b[0;34m.\u001b[0m\u001b[0m_steps_per_execution\u001b[0m\u001b[0;34m,\u001b[0m\u001b[0;34m\u001b[0m\u001b[0;34m\u001b[0m\u001b[0m\n\u001b[1;32m   1728\u001b[0m                         )\n\u001b[0;32m-> 1729\u001b[0;31m                     val_logs = self.evaluate(\n\u001b[0m\u001b[1;32m   1730\u001b[0m                         \u001b[0mx\u001b[0m\u001b[0;34m=\u001b[0m\u001b[0mval_x\u001b[0m\u001b[0;34m,\u001b[0m\u001b[0;34m\u001b[0m\u001b[0;34m\u001b[0m\u001b[0m\n\u001b[1;32m   1731\u001b[0m                         \u001b[0my\u001b[0m\u001b[0;34m=\u001b[0m\u001b[0mval_y\u001b[0m\u001b[0;34m,\u001b[0m\u001b[0;34m\u001b[0m\u001b[0;34m\u001b[0m\u001b[0m\n",
            "\u001b[0;32m/usr/local/lib/python3.9/dist-packages/keras/utils/traceback_utils.py\u001b[0m in \u001b[0;36merror_handler\u001b[0;34m(*args, **kwargs)\u001b[0m\n\u001b[1;32m     63\u001b[0m         \u001b[0mfiltered_tb\u001b[0m \u001b[0;34m=\u001b[0m \u001b[0;32mNone\u001b[0m\u001b[0;34m\u001b[0m\u001b[0;34m\u001b[0m\u001b[0m\n\u001b[1;32m     64\u001b[0m         \u001b[0;32mtry\u001b[0m\u001b[0;34m:\u001b[0m\u001b[0;34m\u001b[0m\u001b[0;34m\u001b[0m\u001b[0m\n\u001b[0;32m---> 65\u001b[0;31m             \u001b[0;32mreturn\u001b[0m \u001b[0mfn\u001b[0m\u001b[0;34m(\u001b[0m\u001b[0;34m*\u001b[0m\u001b[0margs\u001b[0m\u001b[0;34m,\u001b[0m \u001b[0;34m**\u001b[0m\u001b[0mkwargs\u001b[0m\u001b[0;34m)\u001b[0m\u001b[0;34m\u001b[0m\u001b[0;34m\u001b[0m\u001b[0m\n\u001b[0m\u001b[1;32m     66\u001b[0m         \u001b[0;32mexcept\u001b[0m \u001b[0mException\u001b[0m \u001b[0;32mas\u001b[0m \u001b[0me\u001b[0m\u001b[0;34m:\u001b[0m\u001b[0;34m\u001b[0m\u001b[0;34m\u001b[0m\u001b[0m\n\u001b[1;32m     67\u001b[0m             \u001b[0mfiltered_tb\u001b[0m \u001b[0;34m=\u001b[0m \u001b[0m_process_traceback_frames\u001b[0m\u001b[0;34m(\u001b[0m\u001b[0me\u001b[0m\u001b[0;34m.\u001b[0m\u001b[0m__traceback__\u001b[0m\u001b[0;34m)\u001b[0m\u001b[0;34m\u001b[0m\u001b[0;34m\u001b[0m\u001b[0m\n",
            "\u001b[0;32m/usr/local/lib/python3.9/dist-packages/keras/engine/training.py\u001b[0m in \u001b[0;36mevaluate\u001b[0;34m(self, x, y, batch_size, verbose, sample_weight, steps, callbacks, max_queue_size, workers, use_multiprocessing, return_dict, **kwargs)\u001b[0m\n\u001b[1;32m   2070\u001b[0m                         ):\n\u001b[1;32m   2071\u001b[0m                             \u001b[0mcallbacks\u001b[0m\u001b[0;34m.\u001b[0m\u001b[0mon_test_batch_begin\u001b[0m\u001b[0;34m(\u001b[0m\u001b[0mstep\u001b[0m\u001b[0;34m)\u001b[0m\u001b[0;34m\u001b[0m\u001b[0;34m\u001b[0m\u001b[0m\n\u001b[0;32m-> 2072\u001b[0;31m                             \u001b[0mtmp_logs\u001b[0m \u001b[0;34m=\u001b[0m \u001b[0mself\u001b[0m\u001b[0;34m.\u001b[0m\u001b[0mtest_function\u001b[0m\u001b[0;34m(\u001b[0m\u001b[0miterator\u001b[0m\u001b[0;34m)\u001b[0m\u001b[0;34m\u001b[0m\u001b[0;34m\u001b[0m\u001b[0m\n\u001b[0m\u001b[1;32m   2073\u001b[0m                             \u001b[0;32mif\u001b[0m \u001b[0mdata_handler\u001b[0m\u001b[0;34m.\u001b[0m\u001b[0mshould_sync\u001b[0m\u001b[0;34m:\u001b[0m\u001b[0;34m\u001b[0m\u001b[0;34m\u001b[0m\u001b[0m\n\u001b[1;32m   2074\u001b[0m                                 \u001b[0mcontext\u001b[0m\u001b[0;34m.\u001b[0m\u001b[0masync_wait\u001b[0m\u001b[0;34m(\u001b[0m\u001b[0;34m)\u001b[0m\u001b[0;34m\u001b[0m\u001b[0;34m\u001b[0m\u001b[0m\n",
            "\u001b[0;32m/usr/local/lib/python3.9/dist-packages/tensorflow/python/util/traceback_utils.py\u001b[0m in \u001b[0;36merror_handler\u001b[0;34m(*args, **kwargs)\u001b[0m\n\u001b[1;32m    148\u001b[0m     \u001b[0mfiltered_tb\u001b[0m \u001b[0;34m=\u001b[0m \u001b[0;32mNone\u001b[0m\u001b[0;34m\u001b[0m\u001b[0;34m\u001b[0m\u001b[0m\n\u001b[1;32m    149\u001b[0m     \u001b[0;32mtry\u001b[0m\u001b[0;34m:\u001b[0m\u001b[0;34m\u001b[0m\u001b[0;34m\u001b[0m\u001b[0m\n\u001b[0;32m--> 150\u001b[0;31m       \u001b[0;32mreturn\u001b[0m \u001b[0mfn\u001b[0m\u001b[0;34m(\u001b[0m\u001b[0;34m*\u001b[0m\u001b[0margs\u001b[0m\u001b[0;34m,\u001b[0m \u001b[0;34m**\u001b[0m\u001b[0mkwargs\u001b[0m\u001b[0;34m)\u001b[0m\u001b[0;34m\u001b[0m\u001b[0;34m\u001b[0m\u001b[0m\n\u001b[0m\u001b[1;32m    151\u001b[0m     \u001b[0;32mexcept\u001b[0m \u001b[0mException\u001b[0m \u001b[0;32mas\u001b[0m \u001b[0me\u001b[0m\u001b[0;34m:\u001b[0m\u001b[0;34m\u001b[0m\u001b[0;34m\u001b[0m\u001b[0m\n\u001b[1;32m    152\u001b[0m       \u001b[0mfiltered_tb\u001b[0m \u001b[0;34m=\u001b[0m \u001b[0m_process_traceback_frames\u001b[0m\u001b[0;34m(\u001b[0m\u001b[0me\u001b[0m\u001b[0;34m.\u001b[0m\u001b[0m__traceback__\u001b[0m\u001b[0;34m)\u001b[0m\u001b[0;34m\u001b[0m\u001b[0;34m\u001b[0m\u001b[0m\n",
            "\u001b[0;32m/usr/local/lib/python3.9/dist-packages/tensorflow/python/eager/polymorphic_function/polymorphic_function.py\u001b[0m in \u001b[0;36m__call__\u001b[0;34m(self, *args, **kwds)\u001b[0m\n\u001b[1;32m    892\u001b[0m \u001b[0;34m\u001b[0m\u001b[0m\n\u001b[1;32m    893\u001b[0m       \u001b[0;32mwith\u001b[0m \u001b[0mOptionalXlaContext\u001b[0m\u001b[0;34m(\u001b[0m\u001b[0mself\u001b[0m\u001b[0;34m.\u001b[0m\u001b[0m_jit_compile\u001b[0m\u001b[0;34m)\u001b[0m\u001b[0;34m:\u001b[0m\u001b[0;34m\u001b[0m\u001b[0;34m\u001b[0m\u001b[0m\n\u001b[0;32m--> 894\u001b[0;31m         \u001b[0mresult\u001b[0m \u001b[0;34m=\u001b[0m \u001b[0mself\u001b[0m\u001b[0;34m.\u001b[0m\u001b[0m_call\u001b[0m\u001b[0;34m(\u001b[0m\u001b[0;34m*\u001b[0m\u001b[0margs\u001b[0m\u001b[0;34m,\u001b[0m \u001b[0;34m**\u001b[0m\u001b[0mkwds\u001b[0m\u001b[0;34m)\u001b[0m\u001b[0;34m\u001b[0m\u001b[0;34m\u001b[0m\u001b[0m\n\u001b[0m\u001b[1;32m    895\u001b[0m \u001b[0;34m\u001b[0m\u001b[0m\n\u001b[1;32m    896\u001b[0m       \u001b[0mnew_tracing_count\u001b[0m \u001b[0;34m=\u001b[0m \u001b[0mself\u001b[0m\u001b[0;34m.\u001b[0m\u001b[0mexperimental_get_tracing_count\u001b[0m\u001b[0;34m(\u001b[0m\u001b[0;34m)\u001b[0m\u001b[0;34m\u001b[0m\u001b[0;34m\u001b[0m\u001b[0m\n",
            "\u001b[0;32m/usr/local/lib/python3.9/dist-packages/tensorflow/python/eager/polymorphic_function/polymorphic_function.py\u001b[0m in \u001b[0;36m_call\u001b[0;34m(self, *args, **kwds)\u001b[0m\n\u001b[1;32m    931\u001b[0m       \u001b[0;31m# In this case we have not created variables on the first call. So we can\u001b[0m\u001b[0;34m\u001b[0m\u001b[0;34m\u001b[0m\u001b[0m\n\u001b[1;32m    932\u001b[0m       \u001b[0;31m# run the first trace but we should fail if variables are created.\u001b[0m\u001b[0;34m\u001b[0m\u001b[0;34m\u001b[0m\u001b[0m\n\u001b[0;32m--> 933\u001b[0;31m       \u001b[0mresults\u001b[0m \u001b[0;34m=\u001b[0m \u001b[0mself\u001b[0m\u001b[0;34m.\u001b[0m\u001b[0m_variable_creation_fn\u001b[0m\u001b[0;34m(\u001b[0m\u001b[0;34m*\u001b[0m\u001b[0margs\u001b[0m\u001b[0;34m,\u001b[0m \u001b[0;34m**\u001b[0m\u001b[0mkwds\u001b[0m\u001b[0;34m)\u001b[0m\u001b[0;34m\u001b[0m\u001b[0;34m\u001b[0m\u001b[0m\n\u001b[0m\u001b[1;32m    934\u001b[0m       \u001b[0;32mif\u001b[0m \u001b[0mself\u001b[0m\u001b[0;34m.\u001b[0m\u001b[0m_created_variables\u001b[0m \u001b[0;32mand\u001b[0m \u001b[0;32mnot\u001b[0m \u001b[0mALLOW_DYNAMIC_VARIABLE_CREATION\u001b[0m\u001b[0;34m:\u001b[0m\u001b[0;34m\u001b[0m\u001b[0;34m\u001b[0m\u001b[0m\n\u001b[1;32m    935\u001b[0m         raise ValueError(\"Creating variables on a non-first call to a function\"\n",
            "\u001b[0;32m/usr/local/lib/python3.9/dist-packages/tensorflow/python/eager/polymorphic_function/tracing_compiler.py\u001b[0m in \u001b[0;36m__call__\u001b[0;34m(self, *args, **kwargs)\u001b[0m\n\u001b[1;32m    141\u001b[0m       (concrete_function,\n\u001b[1;32m    142\u001b[0m        filtered_flat_args) = self._maybe_define_function(args, kwargs)\n\u001b[0;32m--> 143\u001b[0;31m     return concrete_function._call_flat(\n\u001b[0m\u001b[1;32m    144\u001b[0m         filtered_flat_args, captured_inputs=concrete_function.captured_inputs)  # pylint: disable=protected-access\n\u001b[1;32m    145\u001b[0m \u001b[0;34m\u001b[0m\u001b[0m\n",
            "\u001b[0;32m/usr/local/lib/python3.9/dist-packages/tensorflow/python/eager/polymorphic_function/monomorphic_function.py\u001b[0m in \u001b[0;36m_call_flat\u001b[0;34m(self, args, captured_inputs, cancellation_manager)\u001b[0m\n\u001b[1;32m   1755\u001b[0m         and executing_eagerly):\n\u001b[1;32m   1756\u001b[0m       \u001b[0;31m# No tape is watching; skip to running the function.\u001b[0m\u001b[0;34m\u001b[0m\u001b[0;34m\u001b[0m\u001b[0m\n\u001b[0;32m-> 1757\u001b[0;31m       return self._build_call_outputs(self._inference_function.call(\n\u001b[0m\u001b[1;32m   1758\u001b[0m           ctx, args, cancellation_manager=cancellation_manager))\n\u001b[1;32m   1759\u001b[0m     forward_backward = self._select_forward_and_backward_functions(\n",
            "\u001b[0;32m/usr/local/lib/python3.9/dist-packages/tensorflow/python/eager/polymorphic_function/monomorphic_function.py\u001b[0m in \u001b[0;36mcall\u001b[0;34m(self, ctx, args, cancellation_manager)\u001b[0m\n\u001b[1;32m    379\u001b[0m       \u001b[0;32mwith\u001b[0m \u001b[0m_InterpolateFunctionError\u001b[0m\u001b[0;34m(\u001b[0m\u001b[0mself\u001b[0m\u001b[0;34m)\u001b[0m\u001b[0;34m:\u001b[0m\u001b[0;34m\u001b[0m\u001b[0;34m\u001b[0m\u001b[0m\n\u001b[1;32m    380\u001b[0m         \u001b[0;32mif\u001b[0m \u001b[0mcancellation_manager\u001b[0m \u001b[0;32mis\u001b[0m \u001b[0;32mNone\u001b[0m\u001b[0;34m:\u001b[0m\u001b[0;34m\u001b[0m\u001b[0;34m\u001b[0m\u001b[0m\n\u001b[0;32m--> 381\u001b[0;31m           outputs = execute.execute(\n\u001b[0m\u001b[1;32m    382\u001b[0m               \u001b[0mstr\u001b[0m\u001b[0;34m(\u001b[0m\u001b[0mself\u001b[0m\u001b[0;34m.\u001b[0m\u001b[0msignature\u001b[0m\u001b[0;34m.\u001b[0m\u001b[0mname\u001b[0m\u001b[0;34m)\u001b[0m\u001b[0;34m,\u001b[0m\u001b[0;34m\u001b[0m\u001b[0;34m\u001b[0m\u001b[0m\n\u001b[1;32m    383\u001b[0m               \u001b[0mnum_outputs\u001b[0m\u001b[0;34m=\u001b[0m\u001b[0mself\u001b[0m\u001b[0;34m.\u001b[0m\u001b[0m_num_outputs\u001b[0m\u001b[0;34m,\u001b[0m\u001b[0;34m\u001b[0m\u001b[0;34m\u001b[0m\u001b[0m\n",
            "\u001b[0;32m/usr/local/lib/python3.9/dist-packages/tensorflow/python/eager/execute.py\u001b[0m in \u001b[0;36mquick_execute\u001b[0;34m(op_name, num_outputs, inputs, attrs, ctx, name)\u001b[0m\n\u001b[1;32m     50\u001b[0m   \u001b[0;32mtry\u001b[0m\u001b[0;34m:\u001b[0m\u001b[0;34m\u001b[0m\u001b[0;34m\u001b[0m\u001b[0m\n\u001b[1;32m     51\u001b[0m     \u001b[0mctx\u001b[0m\u001b[0;34m.\u001b[0m\u001b[0mensure_initialized\u001b[0m\u001b[0;34m(\u001b[0m\u001b[0;34m)\u001b[0m\u001b[0;34m\u001b[0m\u001b[0;34m\u001b[0m\u001b[0m\n\u001b[0;32m---> 52\u001b[0;31m     tensors = pywrap_tfe.TFE_Py_Execute(ctx._handle, device_name, op_name,\n\u001b[0m\u001b[1;32m     53\u001b[0m                                         inputs, attrs, num_outputs)\n\u001b[1;32m     54\u001b[0m   \u001b[0;32mexcept\u001b[0m \u001b[0mcore\u001b[0m\u001b[0;34m.\u001b[0m\u001b[0m_NotOkStatusException\u001b[0m \u001b[0;32mas\u001b[0m \u001b[0me\u001b[0m\u001b[0;34m:\u001b[0m\u001b[0;34m\u001b[0m\u001b[0;34m\u001b[0m\u001b[0m\n",
            "\u001b[0;31mKeyboardInterrupt\u001b[0m: "
          ]
        }
      ]
    },
    {
      "cell_type": "code",
      "source": [
        "accuracy_dict"
      ],
      "metadata": {
        "id": "aYtPNHPMsJzb"
      },
      "execution_count": null,
      "outputs": []
    },
    {
      "cell_type": "markdown",
      "source": [
        "## V layers"
      ],
      "metadata": {
        "id": "xc-m6-jVr_XZ"
      }
    },
    {
      "cell_type": "code",
      "execution_count": null,
      "metadata": {
        "colab": {
          "base_uri": "https://localhost:8080/"
        },
        "id": "SmGBj6aM2aLy",
        "outputId": "ab71c056-cd93-433f-bcfb-70e40fdc7607"
      },
      "outputs": [
        {
          "output_type": "stream",
          "name": "stdout",
          "text": [
            "DenseNet169  is being Trained\n",
            "\n",
            "\n",
            "Downloading data from https://storage.googleapis.com/tensorflow/keras-applications/densenet/densenet169_weights_tf_dim_ordering_tf_kernels_notop.h5\n",
            "51877672/51877672 [==============================] - 3s 0us/step\n",
            "Model: \"sequential_1\"\n",
            "_________________________________________________________________\n",
            " Layer (type)                Output Shape              Param #   \n",
            "=================================================================\n",
            " densenet169 (Functional)    (None, 7, 7, 1664)        12642880  \n",
            "                                                                 \n",
            " global_average_pooling2d (G  (None, 1664)             0         \n",
            " lobalAveragePooling2D)                                          \n",
            "                                                                 \n",
            " batch_normalization (BatchN  (None, 1664)             6656      \n",
            " ormalization)                                                   \n",
            "                                                                 \n",
            " dense (Dense)               (None, 6)                 9990      \n",
            "                                                                 \n",
            "=================================================================\n",
            "Total params: 12,659,526\n",
            "Trainable params: 13,318\n",
            "Non-trainable params: 12,646,208\n",
            "_________________________________________________________________\n",
            "None\n",
            "Training : \n",
            "Epoch 1/100\n",
            "2/2 [==============================] - 24s 4s/step - loss: 2.1148 - accuracy: 0.1719 - val_loss: 5.0287 - val_accuracy: 0.0781\n",
            "Epoch 2/100\n",
            "2/2 [==============================] - 1s 1s/step - loss: 2.1231 - accuracy: 0.2031 - val_loss: 2.7703 - val_accuracy: 0.2812\n",
            "Epoch 3/100\n",
            "2/2 [==============================] - 1s 1s/step - loss: 1.5457 - accuracy: 0.3906 - val_loss: 2.2260 - val_accuracy: 0.3750\n",
            "Epoch 4/100\n",
            "2/2 [==============================] - 2s 1s/step - loss: 1.6378 - accuracy: 0.3438 - val_loss: 2.2025 - val_accuracy: 0.3750\n",
            "Epoch 5/100\n",
            "2/2 [==============================] - 3s 3s/step - loss: 1.3673 - accuracy: 0.5312 - val_loss: 1.6951 - val_accuracy: 0.4219\n",
            "Epoch 6/100\n",
            "2/2 [==============================] - 1s 1s/step - loss: 1.2243 - accuracy: 0.5625 - val_loss: 2.0498 - val_accuracy: 0.4062\n",
            "Epoch 7/100\n",
            "2/2 [==============================] - 1s 1s/step - loss: 1.2768 - accuracy: 0.5781 - val_loss: 2.5690 - val_accuracy: 0.2031\n",
            "Epoch 8/100\n",
            "2/2 [==============================] - 1s 1s/step - loss: 0.9838 - accuracy: 0.6719 - val_loss: 1.8469 - val_accuracy: 0.2500\n",
            "Epoch 9/100\n",
            "2/2 [==============================] - 2s 1s/step - loss: 1.2794 - accuracy: 0.5625 - val_loss: 2.0362 - val_accuracy: 0.1875\n",
            "Epoch 10/100\n",
            "2/2 [==============================] - 1s 1s/step - loss: 1.0608 - accuracy: 0.6094 - val_loss: 1.7919 - val_accuracy: 0.3750\n",
            "Epoch 11/100\n",
            "2/2 [==============================] - 1s 1s/step - loss: 0.8977 - accuracy: 0.7344 - val_loss: 1.6817 - val_accuracy: 0.4375\n",
            "Epoch 12/100\n",
            "2/2 [==============================] - 1s 1s/step - loss: 0.9546 - accuracy: 0.5938 - val_loss: 1.5427 - val_accuracy: 0.4219\n",
            "Epoch 13/100\n",
            "2/2 [==============================] - 1s 1s/step - loss: 0.9588 - accuracy: 0.6719 - val_loss: 1.6717 - val_accuracy: 0.3906\n",
            "Epoch 14/100\n",
            "2/2 [==============================] - 1s 1s/step - loss: 0.9808 - accuracy: 0.6875 - val_loss: 1.5569 - val_accuracy: 0.4062\n",
            "Epoch 15/100\n",
            "2/2 [==============================] - 1s 1s/step - loss: 0.8927 - accuracy: 0.6562 - val_loss: 1.3854 - val_accuracy: 0.4062\n",
            "Epoch 16/100\n",
            "2/2 [==============================] - 1s 1s/step - loss: 0.9932 - accuracy: 0.6406 - val_loss: 1.7384 - val_accuracy: 0.4219\n",
            "Epoch 17/100\n",
            "2/2 [==============================] - 1s 1s/step - loss: 0.7993 - accuracy: 0.7656 - val_loss: 1.3588 - val_accuracy: 0.5469\n",
            "Epoch 18/100\n",
            "2/2 [==============================] - 1s 1s/step - loss: 0.6618 - accuracy: 0.8281 - val_loss: 1.4717 - val_accuracy: 0.4844\n",
            "Epoch 19/100\n",
            "2/2 [==============================] - 2s 1s/step - loss: 0.5811 - accuracy: 0.8281 - val_loss: 1.3563 - val_accuracy: 0.5156\n",
            "Epoch 20/100\n",
            "2/2 [==============================] - 1s 1s/step - loss: 0.7094 - accuracy: 0.7656 - val_loss: 1.1777 - val_accuracy: 0.6094\n",
            "Epoch 21/100\n",
            "2/2 [==============================] - 1s 1s/step - loss: 0.5579 - accuracy: 0.7969 - val_loss: 1.4918 - val_accuracy: 0.4531\n",
            "Epoch 22/100\n",
            "2/2 [==============================] - 1s 1s/step - loss: 0.7431 - accuracy: 0.7500 - val_loss: 1.4923 - val_accuracy: 0.4375\n",
            "Epoch 23/100\n",
            "2/2 [==============================] - 1s 1s/step - loss: 0.7862 - accuracy: 0.7031 - val_loss: 1.3758 - val_accuracy: 0.5469\n",
            "Epoch 24/100\n",
            "2/2 [==============================] - 1s 1s/step - loss: 0.7705 - accuracy: 0.7188 - val_loss: 1.3416 - val_accuracy: 0.5312\n",
            "Epoch 25/100\n",
            "2/2 [==============================] - 1s 1s/step - loss: 0.7492 - accuracy: 0.7188 - val_loss: 1.1005 - val_accuracy: 0.6406\n",
            "Epoch 26/100\n",
            "2/2 [==============================] - 1s 1s/step - loss: 0.7336 - accuracy: 0.7031 - val_loss: 1.4496 - val_accuracy: 0.5156\n",
            "Epoch 27/100\n",
            "2/2 [==============================] - 1s 1s/step - loss: 0.6087 - accuracy: 0.7969 - val_loss: 1.3475 - val_accuracy: 0.5625\n",
            "Epoch 28/100\n",
            "2/2 [==============================] - 1s 1s/step - loss: 0.7492 - accuracy: 0.7812 - val_loss: 1.1707 - val_accuracy: 0.6250\n",
            "Epoch 29/100\n",
            "2/2 [==============================] - 1s 1s/step - loss: 0.7107 - accuracy: 0.7656 - val_loss: 1.0229 - val_accuracy: 0.6250\n",
            "Epoch 30/100\n",
            "2/2 [==============================] - 1s 1s/step - loss: 0.6977 - accuracy: 0.7344 - val_loss: 1.2042 - val_accuracy: 0.5469\n",
            "Epoch 31/100\n",
            "2/2 [==============================] - 2s 1s/step - loss: 0.9255 - accuracy: 0.6875 - val_loss: 1.3977 - val_accuracy: 0.5312\n",
            "Epoch 32/100\n",
            "2/2 [==============================] - 1s 1s/step - loss: 0.4939 - accuracy: 0.8750 - val_loss: 1.0542 - val_accuracy: 0.6719\n",
            "Epoch 33/100\n",
            "2/2 [==============================] - 1s 1s/step - loss: 0.5509 - accuracy: 0.8438 - val_loss: 1.1903 - val_accuracy: 0.5938\n",
            "Epoch 34/100\n",
            "2/2 [==============================] - 2s 1s/step - loss: 0.5943 - accuracy: 0.7812 - val_loss: 1.1945 - val_accuracy: 0.6875\n",
            "Epoch 35/100\n",
            "2/2 [==============================] - 2s 1s/step - loss: 0.6144 - accuracy: 0.8125 - val_loss: 1.2275 - val_accuracy: 0.5469\n",
            "Epoch 36/100\n",
            "2/2 [==============================] - 1s 1s/step - loss: 0.7610 - accuracy: 0.7969 - val_loss: 1.0935 - val_accuracy: 0.6406\n",
            "Epoch 37/100\n",
            "2/2 [==============================] - 1s 1s/step - loss: 0.7790 - accuracy: 0.7500 - val_loss: 1.2430 - val_accuracy: 0.6094\n",
            "Epoch 38/100\n",
            "2/2 [==============================] - 1s 1s/step - loss: 0.6052 - accuracy: 0.8281 - val_loss: 1.2385 - val_accuracy: 0.5781\n",
            "Epoch 39/100\n",
            "2/2 [==============================] - 1s 1s/step - loss: 0.6324 - accuracy: 0.7344 - val_loss: 0.9736 - val_accuracy: 0.7031\n",
            "Epoch 40/100\n",
            "2/2 [==============================] - 1s 1s/step - loss: 0.5560 - accuracy: 0.8125 - val_loss: 1.2170 - val_accuracy: 0.6094\n",
            "Epoch 41/100\n",
            "2/2 [==============================] - 1s 1s/step - loss: 0.8116 - accuracy: 0.7031 - val_loss: 1.2697 - val_accuracy: 0.5938\n",
            "Epoch 42/100\n",
            "2/2 [==============================] - 1s 1s/step - loss: 0.8095 - accuracy: 0.7031 - val_loss: 0.9095 - val_accuracy: 0.6406\n",
            "Epoch 43/100\n",
            "2/2 [==============================] - 1s 1s/step - loss: 0.4823 - accuracy: 0.8281 - val_loss: 1.0786 - val_accuracy: 0.6719\n",
            "Epoch 44/100\n",
            "2/2 [==============================] - 1s 1s/step - loss: 0.3782 - accuracy: 0.8750 - val_loss: 1.2152 - val_accuracy: 0.5938\n",
            "Epoch 45/100\n",
            "2/2 [==============================] - 1s 1s/step - loss: 0.6917 - accuracy: 0.7969 - val_loss: 0.8730 - val_accuracy: 0.7344\n",
            "Epoch 46/100\n",
            "2/2 [==============================] - 2s 1s/step - loss: 0.6669 - accuracy: 0.8125 - val_loss: 1.0343 - val_accuracy: 0.7031\n",
            "Epoch 47/100\n",
            "2/2 [==============================] - 1s 1s/step - loss: 0.5740 - accuracy: 0.8281 - val_loss: 0.9016 - val_accuracy: 0.7500\n",
            "Epoch 48/100\n",
            "2/2 [==============================] - 1s 1s/step - loss: 0.4209 - accuracy: 0.8594 - val_loss: 0.8901 - val_accuracy: 0.7188\n",
            "Epoch 49/100\n",
            "2/2 [==============================] - 1s 1s/step - loss: 0.5709 - accuracy: 0.7812 - val_loss: 0.8902 - val_accuracy: 0.7500\n",
            "Epoch 50/100\n",
            "2/2 [==============================] - 1s 1s/step - loss: 0.7217 - accuracy: 0.7656 - val_loss: 0.6382 - val_accuracy: 0.8281\n",
            "Epoch 51/100\n",
            "2/2 [==============================] - 2s 1s/step - loss: 0.4464 - accuracy: 0.8750 - val_loss: 0.7398 - val_accuracy: 0.7969\n",
            "Epoch 52/100\n",
            "2/2 [==============================] - 1s 1s/step - loss: 0.6404 - accuracy: 0.7500 - val_loss: 0.7886 - val_accuracy: 0.7344\n",
            "Epoch 53/100\n",
            "2/2 [==============================] - 1s 1s/step - loss: 0.6481 - accuracy: 0.7344 - val_loss: 0.8426 - val_accuracy: 0.7656\n",
            "Epoch 54/100\n",
            "2/2 [==============================] - 2s 1s/step - loss: 0.7523 - accuracy: 0.7500 - val_loss: 1.0606 - val_accuracy: 0.6719\n",
            "Epoch 55/100\n",
            "2/2 [==============================] - 1s 1s/step - loss: 0.7862 - accuracy: 0.7188 - val_loss: 0.8536 - val_accuracy: 0.6875\n",
            "Epoch 56/100\n",
            "2/2 [==============================] - 1s 1s/step - loss: 0.4780 - accuracy: 0.8438 - val_loss: 0.7417 - val_accuracy: 0.7656\n",
            "Epoch 57/100\n",
            "2/2 [==============================] - 1s 1s/step - loss: 0.6622 - accuracy: 0.7344 - val_loss: 0.7687 - val_accuracy: 0.7656\n",
            "Epoch 58/100\n",
            "2/2 [==============================] - 2s 1s/step - loss: 0.6205 - accuracy: 0.7969 - val_loss: 0.8944 - val_accuracy: 0.7500\n",
            "Epoch 59/100\n",
            "2/2 [==============================] - 1s 1s/step - loss: 0.5812 - accuracy: 0.8438 - val_loss: 1.0086 - val_accuracy: 0.6406\n",
            "Epoch 60/100\n",
            "2/2 [==============================] - 1s 1s/step - loss: 0.6477 - accuracy: 0.8281 - val_loss: 0.9052 - val_accuracy: 0.6719\n",
            "Epoch 61/100\n",
            "2/2 [==============================] - 1s 1s/step - loss: 0.6263 - accuracy: 0.7969 - val_loss: 0.7215 - val_accuracy: 0.7500\n",
            "Epoch 62/100\n",
            "2/2 [==============================] - 1s 1s/step - loss: 0.5637 - accuracy: 0.7656 - val_loss: 0.8389 - val_accuracy: 0.7031\n",
            "Epoch 63/100\n",
            "2/2 [==============================] - 1s 1s/step - loss: 0.5660 - accuracy: 0.7969 - val_loss: 0.5763 - val_accuracy: 0.7812\n",
            "Epoch 64/100\n",
            "2/2 [==============================] - 1s 1s/step - loss: 0.5990 - accuracy: 0.8125 - val_loss: 0.8423 - val_accuracy: 0.7344\n",
            "Epoch 65/100\n",
            "2/2 [==============================] - 1s 1s/step - loss: 0.5298 - accuracy: 0.7969 - val_loss: 0.7253 - val_accuracy: 0.7656\n",
            "Epoch 66/100\n",
            "2/2 [==============================] - 2s 1s/step - loss: 0.6891 - accuracy: 0.7656 - val_loss: 0.6082 - val_accuracy: 0.8594\n",
            "Epoch 67/100\n",
            "2/2 [==============================] - 2s 2s/step - loss: 0.6042 - accuracy: 0.7812 - val_loss: 0.5405 - val_accuracy: 0.8750\n",
            "Epoch 68/100\n",
            "2/2 [==============================] - 2s 1s/step - loss: 0.5171 - accuracy: 0.8125 - val_loss: 0.6799 - val_accuracy: 0.7656\n",
            "Epoch 69/100\n",
            "2/2 [==============================] - 2s 2s/step - loss: 0.6912 - accuracy: 0.7344 - val_loss: 0.6973 - val_accuracy: 0.7500\n",
            "Epoch 70/100\n",
            "2/2 [==============================] - 2s 2s/step - loss: 0.4615 - accuracy: 0.8438 - val_loss: 0.8480 - val_accuracy: 0.7031\n",
            "Epoch 71/100\n",
            "2/2 [==============================] - 2s 2s/step - loss: 0.4781 - accuracy: 0.8125 - val_loss: 0.6371 - val_accuracy: 0.7344\n",
            "Epoch 72/100\n",
            "2/2 [==============================] - 2s 1s/step - loss: 0.4230 - accuracy: 0.8594 - val_loss: 0.7363 - val_accuracy: 0.7969\n",
            "Epoch 73/100\n",
            "2/2 [==============================] - 3s 3s/step - loss: 0.4231 - accuracy: 0.8906 - val_loss: 0.5948 - val_accuracy: 0.7969\n",
            "Epoch 74/100\n",
            "2/2 [==============================] - 1s 1s/step - loss: 0.5128 - accuracy: 0.8281 - val_loss: 0.6103 - val_accuracy: 0.8281\n",
            "Epoch 75/100\n",
            "2/2 [==============================] - 1s 1s/step - loss: 0.5688 - accuracy: 0.8281 - val_loss: 0.6121 - val_accuracy: 0.8125\n",
            "Epoch 76/100\n",
            "2/2 [==============================] - 1s 1s/step - loss: 0.6970 - accuracy: 0.8438 - val_loss: 0.5649 - val_accuracy: 0.8281\n",
            "Epoch 77/100\n",
            "2/2 [==============================] - 1s 1s/step - loss: 0.5537 - accuracy: 0.7969 - val_loss: 0.6118 - val_accuracy: 0.7656\n",
            "Epoch 78/100\n",
            "2/2 [==============================] - 1s 1s/step - loss: 0.5629 - accuracy: 0.7344 - val_loss: 0.5915 - val_accuracy: 0.7812\n",
            "Epoch 79/100\n",
            "2/2 [==============================] - 2s 1s/step - loss: 0.4824 - accuracy: 0.8906 - val_loss: 0.6570 - val_accuracy: 0.7344\n",
            "Epoch 80/100\n",
            "2/2 [==============================] - 2s 1s/step - loss: 0.6252 - accuracy: 0.7969 - val_loss: 0.6468 - val_accuracy: 0.7500\n",
            "Epoch 81/100\n",
            "2/2 [==============================] - 1s 1s/step - loss: 0.5372 - accuracy: 0.7969 - val_loss: 0.7069 - val_accuracy: 0.7031\n",
            "Epoch 82/100\n",
            "2/2 [==============================] - 1s 1s/step - loss: 0.6358 - accuracy: 0.7656 - val_loss: 0.6019 - val_accuracy: 0.7969\n",
            "Epoch 83/100\n",
            "2/2 [==============================] - 1s 1s/step - loss: 0.8287 - accuracy: 0.7188 - val_loss: 0.6051 - val_accuracy: 0.7969\n",
            "Epoch 84/100\n",
            "2/2 [==============================] - 1s 1s/step - loss: 0.5622 - accuracy: 0.7656 - val_loss: 0.6422 - val_accuracy: 0.7812\n",
            "Epoch 85/100\n",
            "2/2 [==============================] - 2s 1s/step - loss: 0.3985 - accuracy: 0.8594 - val_loss: 0.5613 - val_accuracy: 0.7812\n",
            "Epoch 86/100\n",
            "2/2 [==============================] - 1s 1s/step - loss: 0.4645 - accuracy: 0.7969 - val_loss: 0.6414 - val_accuracy: 0.7812\n",
            "Epoch 87/100\n",
            "2/2 [==============================] - 2s 1s/step - loss: 0.4639 - accuracy: 0.8750 - val_loss: 0.6085 - val_accuracy: 0.7812\n",
            "Epoch 88/100\n",
            "2/2 [==============================] - 1s 1s/step - loss: 0.6233 - accuracy: 0.7031 - val_loss: 0.6277 - val_accuracy: 0.7188\n",
            "Epoch 89/100\n",
            "2/2 [==============================] - 2s 1s/step - loss: 0.4753 - accuracy: 0.8750 - val_loss: 0.7297 - val_accuracy: 0.7188\n",
            "Epoch 90/100\n",
            "2/2 [==============================] - 1s 1s/step - loss: 0.4537 - accuracy: 0.8438 - val_loss: 0.5058 - val_accuracy: 0.8438\n",
            "Epoch 91/100\n",
            "2/2 [==============================] - 1s 1s/step - loss: 0.4675 - accuracy: 0.8594 - val_loss: 0.7362 - val_accuracy: 0.7188\n",
            "Epoch 92/100\n",
            "2/2 [==============================] - 1s 1s/step - loss: 0.4484 - accuracy: 0.8125 - val_loss: 0.6084 - val_accuracy: 0.7812\n",
            "Epoch 93/100\n",
            "2/2 [==============================] - 1s 1s/step - loss: 0.4963 - accuracy: 0.8438 - val_loss: 0.8031 - val_accuracy: 0.7188\n",
            "Epoch 94/100\n",
            "2/2 [==============================] - 1s 1s/step - loss: 0.4119 - accuracy: 0.8906 - val_loss: 0.6438 - val_accuracy: 0.7344\n",
            "Epoch 95/100\n",
            "2/2 [==============================] - 2s 1s/step - loss: 0.4085 - accuracy: 0.8594 - val_loss: 0.6764 - val_accuracy: 0.7656\n",
            "Epoch 96/100\n",
            "2/2 [==============================] - 1s 1s/step - loss: 0.7704 - accuracy: 0.7188 - val_loss: 0.7145 - val_accuracy: 0.7656\n",
            "Epoch 97/100\n",
            "2/2 [==============================] - 1s 1s/step - loss: 0.4845 - accuracy: 0.8281 - val_loss: 0.5480 - val_accuracy: 0.7969\n",
            "Epoch 98/100\n",
            "2/2 [==============================] - 1s 1s/step - loss: 0.5345 - accuracy: 0.7812 - val_loss: 0.5535 - val_accuracy: 0.7812\n",
            "Epoch 99/100\n",
            "2/2 [==============================] - 1s 1s/step - loss: 0.3650 - accuracy: 0.8906 - val_loss: 0.8041 - val_accuracy: 0.7188\n",
            "Epoch 100/100\n",
            "2/2 [==============================] - 1s 1s/step - loss: 0.4829 - accuracy: 0.8281 - val_loss: 0.5011 - val_accuracy: 0.8594\n",
            "20/20 [==============================] - 3s 117ms/step - loss: 0.5737 - accuracy: 0.8109\n",
            "DenseNet169 gives us :\n",
            "loss: 0.57\n",
            "accuracy: 0.81\n"
          ]
        }
      ],
      "source": [
        "from IPython.display import clear_output\n",
        "\n",
        "IMAGE_SIZE  = [224,224]\n",
        "\n",
        "accuracy_dict = {}\n",
        "\n",
        "for it in range(17,18):\n",
        "    clear_output(wait=True)\n",
        "    print(model_names[it],' is being Trained\\n\\n')\n",
        "\n",
        "    model_init = model_variables[it](input_shape=IMAGE_SIZE  + [3], weights = 'imagenet', include_top=False)\n",
        "    # print(model_init.summary())\n",
        "\n",
        "\n",
        "    model_init.trainable=False\n",
        "    batch_norm = tf.keras.layers.BatchNormalization()\n",
        "    # rescaling_layer = tf.keras.layers.Rescaling(scale=1./255,input_shape=IMAGE_SIZE  + [3])\n",
        "    rescaling_layer = tf.keras.layers.Rescaling(scale=1./127.5, offset=-1,input_shape=IMAGE_SIZE  + [3])\n",
        "    global_average_layer = tf.keras.layers.GlobalAveragePooling2D()\n",
        "\n",
        "    # normalization layer\n",
        "    # normalize = tf.keras.layers.Normalization()\n",
        "\n",
        "    prediction_layer = tf.keras.layers.Dense(len(classes),activation='softmax')\n",
        "    model = tf.keras.Sequential([\n",
        "        # rescaling_layer,\n",
        "        model_init,\n",
        "        global_average_layer,\n",
        "        batch_norm,\n",
        "        prediction_layer\n",
        "    ])\n",
        "\n",
        "    print(model.summary())\n",
        "    print(\"Training : \")\n",
        "\n",
        "    callback = tf.keras.callbacks.EarlyStopping(monitor='val_loss', patience=5)\n",
        "\n",
        "    model.compile(optimizer=tf.optimizers.Adam(),\n",
        "                loss=tf.keras.losses.sparse_categorical_crossentropy,\n",
        "                metrics=[\"accuracy\"])\n",
        "\n",
        "    # history = model.fit(train_data_gen,\n",
        "    #                 epochs=100,\n",
        "    #                 steps_per_epoch=2,\n",
        "    #                 validation_steps=2,\n",
        "    #                 validation_data=test_data_gen,callbacks=[callback])\n",
        "\n",
        "    history = model.fit(train_data_gen,\n",
        "                    epochs=100,\n",
        "                    steps_per_epoch=2,\n",
        "                    validation_steps=2,\n",
        "                    validation_data=test_data_gen)\n",
        "\n",
        "\n",
        "    validation_steps = 20\n",
        "\n",
        "    loss0,accuracy0 = model.evaluate(test_data_gen, steps = validation_steps)\n",
        "\n",
        "    print(model_names[it], 'gives us :')\n",
        "    print(\"loss: {:.2f}\".format(loss0))\n",
        "    print(\"accuracy: {:.2f}\".format(accuracy0))\n",
        "\n",
        "    accuracy_dict.update({model_names[it]:[loss0,accuracy0]})\n",
        "\n",
        "    model.save(\"models/\"+str(model_names[it])+\".h5\")\n"
      ]
    },
    {
      "cell_type": "code",
      "execution_count": null,
      "metadata": {
        "colab": {
          "base_uri": "https://localhost:8080/"
        },
        "id": "Hc9jM2HKn2lk",
        "outputId": "44a06291-b346-4802-bbae-e0b4015ee970"
      },
      "outputs": [
        {
          "output_type": "execute_result",
          "data": {
            "text/plain": [
              "{'DenseNet169': [0.5737414956092834, 0.8109375238418579]}"
            ]
          },
          "metadata": {},
          "execution_count": 24
        }
      ],
      "source": [
        "accuracy_dict\n"
      ]
    },
    {
      "cell_type": "code",
      "source": [
        "classes = ['fetal_abdomen',\n",
        " 'fetal_brain',\n",
        " 'other',\n",
        " 'fetal_femur',\n",
        " 'fetal_thorax',\n",
        " 'maternal_cervix']"
      ],
      "metadata": {
        "id": "9tCQfgT6l8oi"
      },
      "execution_count": null,
      "outputs": []
    },
    {
      "cell_type": "code",
      "source": [
        "import cv2 as cv2\n",
        "img = cv2.imread('/content/Image1-cropped.jpg')\n",
        "img = cv2.resize(img,(224,224))\n",
        "new_img = np.expand_dims(img, axis=0)\n",
        "img.shape"
      ],
      "metadata": {
        "colab": {
          "base_uri": "https://localhost:8080/"
        },
        "id": "i7gjlwfidcD5",
        "outputId": "0b0fd859-9ecc-41d3-e0db-a7a272029dff"
      },
      "execution_count": null,
      "outputs": [
        {
          "output_type": "execute_result",
          "data": {
            "text/plain": [
              "(224, 224, 3)"
            ]
          },
          "metadata": {},
          "execution_count": 93
        }
      ]
    },
    {
      "cell_type": "code",
      "source": [
        "classes = os.listdir(train_dir)\n",
        "pred = model.predict(new_img)\n",
        "target = classes[np.argmax(pred)]\n",
        "target"
      ],
      "metadata": {
        "colab": {
          "base_uri": "https://localhost:8080/",
          "height": 52
        },
        "id": "xwLmveBceuXb",
        "outputId": "eb3c2ec5-8aa5-4735-b4f4-f6e1f8498dba"
      },
      "execution_count": null,
      "outputs": [
        {
          "output_type": "stream",
          "name": "stdout",
          "text": [
            "1/1 [==============================] - 0s 33ms/step\n"
          ]
        },
        {
          "output_type": "execute_result",
          "data": {
            "text/plain": [
              "'fetal_femur'"
            ],
            "application/vnd.google.colaboratory.intrinsic+json": {
              "type": "string"
            }
          },
          "metadata": {},
          "execution_count": 94
        }
      ]
    },
    {
      "cell_type": "code",
      "source": [
        "plt.imshow(img)"
      ],
      "metadata": {
        "colab": {
          "base_uri": "https://localhost:8080/",
          "height": 451
        },
        "id": "eAFUk_TRiIJ1",
        "outputId": "b8fcbf54-c592-4193-9e9c-8b519a0d841e"
      },
      "execution_count": null,
      "outputs": [
        {
          "output_type": "execute_result",
          "data": {
            "text/plain": [
              "<matplotlib.image.AxesImage at 0x7f96e03e2740>"
            ]
          },
          "metadata": {},
          "execution_count": 91
        },
        {
          "output_type": "display_data",
          "data": {
            "text/plain": [
              "<Figure size 640x480 with 1 Axes>"
            ],
            "image/png": "[encoded data removed]"
          },
          "metadata": {}
        }
      ]
    }
  ],
  "metadata": {
    "accelerator": "GPU",
    "colab": {
      "machine_shape": "hm",
      "provenance": [],
      "collapsed_sections": [
        "1U7Sni6LoKJ0",
        "J5VBoOwQsFUw"
      ],
      "include_colab_link": true
    },
    "gpuClass": "standard",
    "kernelspec": {
      "display_name": "Python 3.10.9 ('ml-env')",
      "language": "python",
      "name": "python3"
    },
    "language_info": {
      "codemirror_mode": {
        "name": "ipython",
        "version": 3
      },
      "file_extension": ".py",
      "mimetype": "text/x-python",
      "name": "python",
      "nbconvert_exporter": "python",
      "pygments_lexer": "ipython3",
      "version": "3.10.9"
    },
    "vscode": {
      "interpreter": {
        "hash": "5be6185028b8fdc27357d731eb78f3ce2eeb64c688b3de13651aab36b4da8095"
      }
    }
  },
  "nbformat": 4,
  "nbformat_minor": 0
}